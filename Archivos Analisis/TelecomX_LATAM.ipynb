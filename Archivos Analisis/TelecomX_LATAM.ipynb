{
  "nbformat": 4,
  "nbformat_minor": 0,
  "metadata": {
    "colab": {
      "provenance": []
    },
    "kernelspec": {
      "name": "python3",
      "display_name": "Python 3"
    },
    "language_info": {
      "name": "python"
    }
  },
  "cells": [
    {
      "cell_type": "markdown",
      "source": [
        "#📌 Extracción"
      ],
      "metadata": {
        "id": "4foVEKhrlqcH"
      }
    },
    {
      "cell_type": "code",
      "source": [
        "import json #Para procesar los archivos .json\n",
        "import os\n",
        "import pandas as pd\n",
        "import numpy as np\n",
        "import requests"
      ],
      "metadata": {
        "id": "1--uPM88l7JH"
      },
      "execution_count": 22,
      "outputs": []
    },
    {
      "cell_type": "code",
      "source": [
        "url = \"https://raw.githubusercontent.com/mateo16dev/Challenge-Telecom-X---Alura/refs/heads/main/Archivos%20Analisis/TelecomX_Data.json\" #Ruta para el archivo Data\n",
        "df = pd.read_json(url) #Transformandolo en un data frame de pandas"
      ],
      "metadata": {
        "id": "oj3Y2SPfaZrF"
      },
      "execution_count": 16,
      "outputs": []
    },
    {
      "cell_type": "code",
      "source": [
        "print(df.head()) #Visulizar el contendio del dataframe"
      ],
      "metadata": {
        "collapsed": true,
        "id": "PiJOq-6na5es",
        "outputId": "283dda4c-2c40-4d91-a262-27b817aad182",
        "colab": {
          "base_uri": "https://localhost:8080/"
        }
      },
      "execution_count": 23,
      "outputs": [
        {
          "output_type": "stream",
          "name": "stdout",
          "text": [
            "   customerID Churn                                           customer  \\\n",
            "0  0002-ORFBO    No  {'gender': 'Female', 'SeniorCitizen': 0, 'Part...   \n",
            "1  0003-MKNFE    No  {'gender': 'Male', 'SeniorCitizen': 0, 'Partne...   \n",
            "2  0004-TLHLJ   Yes  {'gender': 'Male', 'SeniorCitizen': 0, 'Partne...   \n",
            "3  0011-IGKFF   Yes  {'gender': 'Male', 'SeniorCitizen': 1, 'Partne...   \n",
            "4  0013-EXCHZ   Yes  {'gender': 'Female', 'SeniorCitizen': 1, 'Part...   \n",
            "\n",
            "                                             phone  \\\n",
            "0   {'PhoneService': 'Yes', 'MultipleLines': 'No'}   \n",
            "1  {'PhoneService': 'Yes', 'MultipleLines': 'Yes'}   \n",
            "2   {'PhoneService': 'Yes', 'MultipleLines': 'No'}   \n",
            "3   {'PhoneService': 'Yes', 'MultipleLines': 'No'}   \n",
            "4   {'PhoneService': 'Yes', 'MultipleLines': 'No'}   \n",
            "\n",
            "                                            internet  \\\n",
            "0  {'InternetService': 'DSL', 'OnlineSecurity': '...   \n",
            "1  {'InternetService': 'DSL', 'OnlineSecurity': '...   \n",
            "2  {'InternetService': 'Fiber optic', 'OnlineSecu...   \n",
            "3  {'InternetService': 'Fiber optic', 'OnlineSecu...   \n",
            "4  {'InternetService': 'Fiber optic', 'OnlineSecu...   \n",
            "\n",
            "                                             account  \n",
            "0  {'Contract': 'One year', 'PaperlessBilling': '...  \n",
            "1  {'Contract': 'Month-to-month', 'PaperlessBilli...  \n",
            "2  {'Contract': 'Month-to-month', 'PaperlessBilli...  \n",
            "3  {'Contract': 'Month-to-month', 'PaperlessBilli...  \n",
            "4  {'Contract': 'Month-to-month', 'PaperlessBilli...  \n"
          ]
        }
      ]
    },
    {
      "cell_type": "code",
      "source": [
        "url_dicc = \"https://raw.githubusercontent.com/mateo16dev/Challenge-Telecom-X---Alura/refs/heads/main/Archivos%20Analisis/TelecomX_diccionario.md\"\n",
        "response = requests.get(url_dicc)\n",
        "\n",
        "if response.status_code == 200:\n",
        "    diccionario = response.text\n",
        "    print(diccionario)\n",
        "else:\n",
        "    print(\"Error al descargar el diccionario:\", response.status_code)"
      ],
      "metadata": {
        "id": "AxAfQOQMexIl",
        "outputId": "64a7a370-3fc4-4967-932e-28558f991f8d",
        "colab": {
          "base_uri": "https://localhost:8080/"
        }
      },
      "execution_count": 26,
      "outputs": [
        {
          "output_type": "stream",
          "name": "stdout",
          "text": [
            "#### Diccionario de datos\n",
            "\n",
            "- `customerID`: número de identificación único de cada cliente\n",
            "- `Churn`: si el cliente dejó o no la empresa\n",
            "- `gender`: género (masculino y femenino)\n",
            "- `SeniorCitizen`: información sobre si un cliente tiene o no una edad igual o mayor a 65 años\n",
            "- `Partner`: si el cliente tiene o no una pareja\n",
            "- `Dependents`: si el cliente tiene o no dependientes\n",
            "- `tenure`: meses de contrato del cliente\n",
            "- `PhoneService`: suscripción al servicio telefónico\n",
            "- `MultipleLines`: suscripción a más de una línea telefónica\n",
            "- `InternetService`: suscripción a un proveedor de internet\n",
            "- `OnlineSecurity`: suscripción adicional de seguridad en línea\n",
            "- `OnlineBackup`: suscripción adicional de respaldo en línea\n",
            "- `DeviceProtection`: suscripción adicional de protección del dispositivo\n",
            "- `TechSupport`: suscripción adicional de soporte técnico, menor tiempo de espera\n",
            "- `StreamingTV`: suscripción de televisión por cable\n",
            "- `StreamingMovies`: suscripción de streaming de películas\n",
            "- `Contract`: tipo de contrato\n",
            "- `PaperlessBilling`: si el cliente prefiere recibir la factura en línea\n",
            "- `PaymentMethod`: forma de pago\n",
            "- `Charges.Monthly`: total de todos los servicios del cliente por mes\n",
            "- `Charges.Total`: total gastado por el cliente\n"
          ]
        }
      ]
    },
    {
      "cell_type": "markdown",
      "source": [
        "#🔧 Transformación"
      ],
      "metadata": {
        "id": "1lSZP8zmmGZu"
      }
    },
    {
      "cell_type": "markdown",
      "source": [
        "##Conoce el conjunto de datos"
      ],
      "metadata": {
        "id": "Sz-Mpbq5h-dv"
      }
    },
    {
      "cell_type": "code",
      "source": [
        "# Extraer columnas anidadas\n",
        "customer_df = pd.json_normalize(df['customer'])\n",
        "phone_df = pd.json_normalize(df['phone'])\n",
        "internet_df = pd.json_normalize(df['internet'])\n",
        "account_df = pd.json_normalize(df['account'])\n",
        "\n",
        "# Combinar con las columnas principales\n",
        "df_normalized = pd.concat([df.drop(['customer', 'phone', 'internet', 'account'], axis=1),\n",
        "                     customer_df, phone_df, internet_df, account_df], axis=1)\n",
        "\n",
        "print(df_flat.dtypes)\n",
        "print(df_flat.head())"
      ],
      "metadata": {
        "id": "bsm-WTLjmHvt",
        "collapsed": true,
        "outputId": "f7acc397-7369-49f5-cd75-2d508e0936f4",
        "colab": {
          "base_uri": "https://localhost:8080/"
        }
      },
      "execution_count": 32,
      "outputs": [
        {
          "output_type": "stream",
          "name": "stdout",
          "text": [
            "customerID           object\n",
            "Churn                object\n",
            "gender               object\n",
            "SeniorCitizen         int64\n",
            "Partner              object\n",
            "Dependents           object\n",
            "tenure                int64\n",
            "PhoneService         object\n",
            "MultipleLines        object\n",
            "InternetService      object\n",
            "OnlineSecurity       object\n",
            "OnlineBackup         object\n",
            "DeviceProtection     object\n",
            "TechSupport          object\n",
            "StreamingTV          object\n",
            "StreamingMovies      object\n",
            "Contract             object\n",
            "PaperlessBilling     object\n",
            "PaymentMethod        object\n",
            "Charges.Monthly     float64\n",
            "Charges.Total        object\n",
            "dtype: object\n",
            "   customerID Churn  gender  SeniorCitizen Partner Dependents  tenure  \\\n",
            "0  0002-ORFBO    No  Female              0     Yes        Yes       9   \n",
            "1  0003-MKNFE    No    Male              0      No         No       9   \n",
            "2  0004-TLHLJ   Yes    Male              0      No         No       4   \n",
            "3  0011-IGKFF   Yes    Male              1     Yes         No      13   \n",
            "4  0013-EXCHZ   Yes  Female              1     Yes         No       3   \n",
            "\n",
            "  PhoneService MultipleLines InternetService  ... OnlineBackup  \\\n",
            "0          Yes            No             DSL  ...          Yes   \n",
            "1          Yes           Yes             DSL  ...           No   \n",
            "2          Yes            No     Fiber optic  ...           No   \n",
            "3          Yes            No     Fiber optic  ...          Yes   \n",
            "4          Yes            No     Fiber optic  ...           No   \n",
            "\n",
            "  DeviceProtection TechSupport StreamingTV StreamingMovies        Contract  \\\n",
            "0               No         Yes         Yes              No        One year   \n",
            "1               No          No          No             Yes  Month-to-month   \n",
            "2              Yes          No          No              No  Month-to-month   \n",
            "3              Yes          No         Yes             Yes  Month-to-month   \n",
            "4               No         Yes         Yes              No  Month-to-month   \n",
            "\n",
            "  PaperlessBilling     PaymentMethod Charges.Monthly  Charges.Total  \n",
            "0              Yes      Mailed check            65.6          593.3  \n",
            "1               No      Mailed check            59.9          542.4  \n",
            "2              Yes  Electronic check            73.9         280.85  \n",
            "3              Yes  Electronic check            98.0        1237.85  \n",
            "4              Yes      Mailed check            83.9          267.4  \n",
            "\n",
            "[5 rows x 21 columns]\n"
          ]
        }
      ]
    },
    {
      "cell_type": "markdown",
      "source": [
        "##Comprobación de incoherencias en los datos"
      ],
      "metadata": {
        "id": "spuDrVIuiLx1"
      }
    },
    {
      "cell_type": "code",
      "source": [
        "df_normalized['Charges.Total'] = pd.to_numeric(df_normalized['Charges.Total'], errors='coerce')\n",
        "print(df_normalized.isnull().sum())\n",
        "print(df_normalized.describe(include='all'))"
      ],
      "metadata": {
        "collapsed": true,
        "id": "d_FrDzV_gHc-",
        "outputId": "98830e40-402c-4644-e4c8-6929030627c2",
        "colab": {
          "base_uri": "https://localhost:8080/"
        }
      },
      "execution_count": 34,
      "outputs": [
        {
          "output_type": "stream",
          "name": "stdout",
          "text": [
            "customerID           0\n",
            "Churn                0\n",
            "gender               0\n",
            "SeniorCitizen        0\n",
            "Partner              0\n",
            "Dependents           0\n",
            "tenure               0\n",
            "PhoneService         0\n",
            "MultipleLines        0\n",
            "InternetService      0\n",
            "OnlineSecurity       0\n",
            "OnlineBackup         0\n",
            "DeviceProtection     0\n",
            "TechSupport          0\n",
            "StreamingTV          0\n",
            "StreamingMovies      0\n",
            "Contract             0\n",
            "PaperlessBilling     0\n",
            "PaymentMethod        0\n",
            "Charges.Monthly      0\n",
            "Charges.Total       11\n",
            "dtype: int64\n",
            "        customerID Churn gender  SeniorCitizen Partner Dependents  \\\n",
            "count         7267  7267   7267    7267.000000    7267       7267   \n",
            "unique        7267     3      2            NaN       2          2   \n",
            "top     9995-HOTOH    No   Male            NaN      No         No   \n",
            "freq             1  5174   3675            NaN    3749       5086   \n",
            "mean           NaN   NaN    NaN       0.162653     NaN        NaN   \n",
            "std            NaN   NaN    NaN       0.369074     NaN        NaN   \n",
            "min            NaN   NaN    NaN       0.000000     NaN        NaN   \n",
            "25%            NaN   NaN    NaN       0.000000     NaN        NaN   \n",
            "50%            NaN   NaN    NaN       0.000000     NaN        NaN   \n",
            "75%            NaN   NaN    NaN       0.000000     NaN        NaN   \n",
            "max            NaN   NaN    NaN       1.000000     NaN        NaN   \n",
            "\n",
            "             tenure PhoneService MultipleLines InternetService  ...  \\\n",
            "count   7267.000000         7267          7267            7267  ...   \n",
            "unique          NaN            2             3               3  ...   \n",
            "top             NaN          Yes            No     Fiber optic  ...   \n",
            "freq            NaN         6560          3495            3198  ...   \n",
            "mean      32.346498          NaN           NaN             NaN  ...   \n",
            "std       24.571773          NaN           NaN             NaN  ...   \n",
            "min        0.000000          NaN           NaN             NaN  ...   \n",
            "25%        9.000000          NaN           NaN             NaN  ...   \n",
            "50%       29.000000          NaN           NaN             NaN  ...   \n",
            "75%       55.000000          NaN           NaN             NaN  ...   \n",
            "max       72.000000          NaN           NaN             NaN  ...   \n",
            "\n",
            "       OnlineBackup DeviceProtection TechSupport StreamingTV StreamingMovies  \\\n",
            "count          7267             7267        7267        7267            7267   \n",
            "unique            3                3           3           3               3   \n",
            "top              No               No          No          No              No   \n",
            "freq           3182             3195        3582        2896            2870   \n",
            "mean            NaN              NaN         NaN         NaN             NaN   \n",
            "std             NaN              NaN         NaN         NaN             NaN   \n",
            "min             NaN              NaN         NaN         NaN             NaN   \n",
            "25%             NaN              NaN         NaN         NaN             NaN   \n",
            "50%             NaN              NaN         NaN         NaN             NaN   \n",
            "75%             NaN              NaN         NaN         NaN             NaN   \n",
            "max             NaN              NaN         NaN         NaN             NaN   \n",
            "\n",
            "              Contract PaperlessBilling     PaymentMethod Charges.Monthly  \\\n",
            "count             7267             7267              7267     7267.000000   \n",
            "unique               3                2                 4             NaN   \n",
            "top     Month-to-month              Yes  Electronic check             NaN   \n",
            "freq              4005             4311              2445             NaN   \n",
            "mean               NaN              NaN               NaN       64.720098   \n",
            "std                NaN              NaN               NaN       30.129572   \n",
            "min                NaN              NaN               NaN       18.250000   \n",
            "25%                NaN              NaN               NaN       35.425000   \n",
            "50%                NaN              NaN               NaN       70.300000   \n",
            "75%                NaN              NaN               NaN       89.875000   \n",
            "max                NaN              NaN               NaN      118.750000   \n",
            "\n",
            "        Charges.Total  \n",
            "count     7256.000000  \n",
            "unique            NaN  \n",
            "top               NaN  \n",
            "freq              NaN  \n",
            "mean      2280.634213  \n",
            "std       2268.632997  \n",
            "min         18.800000  \n",
            "25%        400.225000  \n",
            "50%       1391.000000  \n",
            "75%       3785.300000  \n",
            "max       8684.800000  \n",
            "\n",
            "[11 rows x 21 columns]\n"
          ]
        }
      ]
    },
    {
      "cell_type": "code",
      "source": [
        "# Ejemplo para tenure\n",
        "print(df_normalized[df_normalized['tenure'] < 0])\n",
        "\n",
        "# Ejemplo para valores únicos en categóricas\n",
        "print(df_normalized['Churn'].unique())\n",
        "print(df_normalized['PaymentMethod'].unique())\n"
      ],
      "metadata": {
        "id": "n5s4btw-hk4x",
        "outputId": "b4dc9c24-a5ee-4d54-b94c-f3de7f164e0f",
        "colab": {
          "base_uri": "https://localhost:8080/"
        }
      },
      "execution_count": 35,
      "outputs": [
        {
          "output_type": "stream",
          "name": "stdout",
          "text": [
            "Empty DataFrame\n",
            "Columns: [customerID, Churn, gender, SeniorCitizen, Partner, Dependents, tenure, PhoneService, MultipleLines, InternetService, OnlineSecurity, OnlineBackup, DeviceProtection, TechSupport, StreamingTV, StreamingMovies, Contract, PaperlessBilling, PaymentMethod, Charges.Monthly, Charges.Total]\n",
            "Index: []\n",
            "\n",
            "[0 rows x 21 columns]\n",
            "['No' 'Yes' '']\n",
            "['Mailed check' 'Electronic check' 'Credit card (automatic)'\n",
            " 'Bank transfer (automatic)']\n"
          ]
        }
      ]
    },
    {
      "cell_type": "markdown",
      "source": [
        "#📊 Carga y análisis"
      ],
      "metadata": {
        "id": "6XnTC2NTmMRL"
      }
    },
    {
      "cell_type": "code",
      "source": [],
      "metadata": {
        "id": "1jgUnLqTmPdd"
      },
      "execution_count": 17,
      "outputs": []
    },
    {
      "cell_type": "markdown",
      "source": [
        "#📄Informe final"
      ],
      "metadata": {
        "id": "v-WzfSvTmaw9"
      }
    },
    {
      "cell_type": "code",
      "source": [],
      "metadata": {
        "id": "XMTac0YJmeK9"
      },
      "execution_count": 17,
      "outputs": []
    }
  ]
}